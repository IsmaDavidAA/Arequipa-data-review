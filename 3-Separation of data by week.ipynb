{
 "cells": [
  {
   "cell_type": "code",
   "execution_count": 1,
   "id": "fa1a46b7",
   "metadata": {},
   "outputs": [],
   "source": [
    "import os\n",
    "import csv\n",
    "from datetime import datetime, timedelta"
   ]
  },
  {
   "cell_type": "code",
   "execution_count": 2,
   "id": "2d9d7371",
   "metadata": {},
   "outputs": [],
   "source": [
    "notebook_folder = os.getcwd()\n",
    "root_project = os.path.abspath(os.path.join(notebook_folder, '.'))\n",
    "trufi_datos = os.path.abspath(os.path.join(root_project, 'Datos', 'Registros de Trufi App'))\n",
    "csv_file_path = os.path.join(trufi_datos, 'origin-destination.csv')\n",
    "weeks_data = os.path.abspath(os.path.join(root_project, 'Weeks'))"
   ]
  },
  {
   "cell_type": "code",
   "execution_count": 3,
   "id": "8c258b52",
   "metadata": {},
   "outputs": [
    {
     "name": "stdout",
     "output_type": "stream",
     "text": [
      "['date', 'origin_latitude', 'origin_longitude', 'destination_latitude', 'destination_longitude', 'userID', 'hour', 'day_of_week', 'day_of_month', 'weekend', 'year_week_number', 'time_of_day', 'distance', 'origin_municipio', 'dest_municipio']\n"
     ]
    }
   ],
   "source": [
    "# Function to determine the week of a given date\n",
    "def get_week(date):\n",
    "    return date.strftime(\"%Y-%W\")\n",
    "\n",
    "# Function to get the start date of the week\n",
    "def get_week_start(date):\n",
    "    # Subtract the necessary days to get to the Monday of the week\n",
    "    week_start = date - timedelta(days=date.weekday())\n",
    "    return week_start\n",
    "\n",
    "# Read the CSV file and process the data\n",
    "with open(csv_file_path, 'r') as csv_file:\n",
    "    csv_reader = csv.DictReader(csv_file)\n",
    "    headers = csv_reader.fieldnames  # Get the headers from the original file\n",
    "    print(headers)\n",
    "    for row in csv_reader:\n",
    "        # Convert the date from CSV format to a datetime object\n",
    "        record_date = datetime.strptime(row['date'], '%Y-%m-%d %H:%M:%S')\n",
    "        \n",
    "        # Determine the week to which this record belongs\n",
    "        week = get_week(record_date)\n",
    "        \n",
    "        # Determine the start date of the week\n",
    "        week_start = get_week_start(record_date)\n",
    "        \n",
    "        # Create the name of the corresponding week file\n",
    "        week_file_name = week_start.strftime(\"%Y-%m-%d\") + \"_to_\" + (week_start + timedelta(days=6)).strftime(\"%Y-%m-%d\") + \"_\" + week + \".csv\"\n",
    "        \n",
    "        # Complete path to the corresponding week file\n",
    "        week_file_path = os.path.join(weeks_data, week_file_name)\n",
    "        \n",
    "        # Check if the file already exists\n",
    "        file_exists = os.path.isfile(week_file_path)\n",
    "        \n",
    "        # Write the record to the corresponding week file\n",
    "        with open(week_file_path, 'a', newline='') as week_file:\n",
    "            csv_writer = csv.writer(week_file)\n",
    "            \n",
    "            # Write the headers if the file does not exist\n",
    "            if not file_exists:\n",
    "                csv_writer.writerow(headers)\n",
    "                \n",
    "            # Write the record\n",
    "            csv_writer.writerow([\n",
    "                record_date.strftime('%Y-%m-%d %H:%M:%S'),\n",
    "                row['origin_latitude'],\n",
    "                row['origin_longitude'],\n",
    "                row['destination_latitude'],\n",
    "                row['destination_longitude'],\n",
    "                row['userID'],\n",
    "                row['hour'],\n",
    "                row['day_of_week'],\n",
    "                row['day_of_month'],\n",
    "                row['weekend'],\n",
    "                week,\n",
    "                row['time_of_day'],\n",
    "                row['distance'],\n",
    "                row['origin_municipio'],\n",
    "                row['dest_municipio']\n",
    "            ])\n"
   ]
  }
 ],
 "metadata": {
  "kernelspec": {
   "display_name": "pyspark-env",
   "language": "python",
   "name": "pyspark-env"
  },
  "language_info": {
   "codemirror_mode": {
    "name": "ipython",
    "version": 3
   },
   "file_extension": ".py",
   "mimetype": "text/x-python",
   "name": "python",
   "nbconvert_exporter": "python",
   "pygments_lexer": "ipython3",
   "version": "3.9.18"
  }
 },
 "nbformat": 4,
 "nbformat_minor": 5
}
